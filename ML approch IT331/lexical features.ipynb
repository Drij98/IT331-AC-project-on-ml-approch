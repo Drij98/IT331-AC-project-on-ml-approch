{
 "cells": [
  {
   "cell_type": "code",
   "execution_count": 5,
   "metadata": {},
   "outputs": [
    {
     "name": "stdout",
     "output_type": "stream",
     "text": [
      "Accuracy: 0.8054380755271604\n",
      "\n",
      "Confusion Matrix:\n",
      "[[ 3211 11938]\n",
      " [ 1035 50494]]\n",
      "\n",
      "Classification Report:\n",
      "              precision    recall  f1-score   support\n",
      "\n",
      "         bad       0.76      0.21      0.33     15149\n",
      "        good       0.81      0.98      0.89     51529\n",
      "\n",
      "    accuracy                           0.81     66678\n",
      "   macro avg       0.78      0.60      0.61     66678\n",
      "weighted avg       0.80      0.81      0.76     66678\n",
      "\n"
     ]
    }
   ],
   "source": [
    "import pandas as pd\n",
    "from sklearn.model_selection import train_test_split\n",
    "from sklearn.feature_extraction.text import CountVectorizer\n",
    "from sklearn.linear_model import LogisticRegression\n",
    "from sklearn.metrics import accuracy_score, confusion_matrix, classification_report\n",
    "import re\n",
    "\n",
    "# Load the dataset\n",
    "url_df = pd.read_csv('Malicious URLs.csv')\n",
    "\n",
    "# Define lexical features\n",
    "lexical_features = ['url_length', 'num_digits', 'num_special_chars', 'num_keywords', 'has_pattern', \n",
    "                    'has_http', 'has_https', 'has_domain_com', 'has_domain_org', 'has_domain_net',\n",
    "                    'has_domain_info', 'has_ip', 'has_redirect', 'has_script', 'has_iframe']\n",
    "\n",
    "# Extract lexical features from URLs\n",
    "url_df['url_length'] = url_df['URLs'].apply(lambda x: len(x))\n",
    "url_df['num_digits'] = url_df['URLs'].apply(lambda x: sum(c.isdigit() for c in x))\n",
    "url_df['num_special_chars'] = url_df['URLs'].apply(lambda x: sum(not c.isalnum() for c in x))\n",
    "url_df['num_keywords'] = url_df['URLs'].apply(lambda x: sum(word in x.lower() for word in ['phishing', 'malware', 'attack', 'fraud', 'hacked']))\n",
    "url_df['has_pattern'] = url_df['URLs'].apply(lambda x: 1 if '//' in x or '..' in x else 0)\n",
    "url_df['has_http'] = url_df['URLs'].apply(lambda x: 1 if 'http' in x else 0)\n",
    "url_df['has_https'] = url_df['URLs'].apply(lambda x: 1 if 'https' in x else 0)\n",
    "url_df['has_domain_com'] = url_df['URLs'].apply(lambda x: 1 if '.com' in x else 0)\n",
    "url_df['has_domain_org'] = url_df['URLs'].apply(lambda x: 1 if '.org' in x else 0)\n",
    "url_df['has_domain_net'] = url_df['URLs'].apply(lambda x: 1 if '.net' in x else 0)\n",
    "url_df['has_domain_info'] = url_df['URLs'].apply(lambda x: 1 if '.info' in x else 0)\n",
    "url_df['has_ip'] = url_df['URLs'].apply(lambda x: 1 if re.match(r'\\b(?:\\d{1,3}\\.){3}\\d{1,3}\\b', x) else 0)\n",
    "url_df['has_redirect'] = url_df['URLs'].apply(lambda x: 1 if 'redirect' in x.lower() else 0)\n",
    "url_df['has_script'] = url_df['URLs'].apply(lambda x: 1 if 'script' in x.lower() else 0)\n",
    "url_df['has_iframe'] = url_df['URLs'].apply(lambda x: 1 if 'iframe' in x.lower() else 0)\n",
    "\n",
    "# Define features and target variable\n",
    "X = url_df[lexical_features]\n",
    "y = url_df['Class']\n",
    "\n",
    "# Split the dataset into training and testing sets\n",
    "X_train, X_test, y_train, y_test = train_test_split(X, y, test_size=0.2, random_state=42)\n",
    "\n",
    "# Train a Logistic Regression classifier\n",
    "logistic_regression = LogisticRegression(max_iter=1000, solver='lbfgs', random_state=42) \n",
    "logistic_regression.fit(X_train, y_train)\n",
    "\n",
    "# Predict the labels for the test data\n",
    "y_pred = logistic_regression.predict(X_test)\n",
    "\n",
    "# Evaluate the model\n",
    "accuracy = accuracy_score(y_test, y_pred)\n",
    "conf_matrix = confusion_matrix(y_test, y_pred)\n",
    "class_report = classification_report(y_test, y_pred)\n",
    "\n",
    "print(\"Accuracy:\", accuracy)\n",
    "print(\"\\nConfusion Matrix:\")\n",
    "print(conf_matrix)\n",
    "print(\"\\nClassification Report:\")\n",
    "print(class_report)\n"
   ]
  }
 ],
 "metadata": {
  "kernelspec": {
   "display_name": "Python 3",
   "language": "python",
   "name": "python3"
  },
  "language_info": {
   "codemirror_mode": {
    "name": "ipython",
    "version": 3
   },
   "file_extension": ".py",
   "mimetype": "text/x-python",
   "name": "python",
   "nbconvert_exporter": "python",
   "pygments_lexer": "ipython3",
   "version": "3.11.8"
  }
 },
 "nbformat": 4,
 "nbformat_minor": 2
}
